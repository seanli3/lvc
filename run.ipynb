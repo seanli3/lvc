{
 "cells": [
  {
   "cell_type": "code",
   "execution_count": 276,
   "metadata": {},
   "outputs": [],
   "source": [
    "\n",
    "def dfs_edges(G, source=None, depth_limit=None):\n",
    "    if source is None:\n",
    "        # edges for all components\n",
    "        nodes = G\n",
    "    else:\n",
    "        # edges for components with source\n",
    "        nodes = [source]\n",
    "    visited = set()\n",
    "    if depth_limit is None:\n",
    "        depth_limit = len(G)\n",
    "    for start in nodes:\n",
    "        if start in visited:\n",
    "            continue\n",
    "        visited.add(start)\n",
    "        degrees = list(G.degree(G[start]))\n",
    "        degrees.sort(key=lambda i: i[1])\n",
    "        stack = [(start, depth_limit, map(lambda d: d[0], degrees))]\n",
    "        while stack:\n",
    "            parent, depth_now, children = stack[-1]\n",
    "            try:\n",
    "                child = next(children)\n",
    "                if child not in visited:\n",
    "                    yield parent, child\n",
    "                    visited.add(child)\n",
    "                    if depth_now > 1:\n",
    "                        # sort node by degree, travese from the smallest degree\n",
    "                        degrees = list(G.degree(G[child]))\n",
    "                        degrees.sort(key=lambda i: i[1])\n",
    "                        stack.append((child, depth_now - 1, map(lambda d: d[0], degrees) ))\n",
    "            except StopIteration:\n",
    "                stack.pop()\n",
    "\n",
    "\n",
    "def dfs_successors(G, source=None, depth_limit=None):\n",
    "    d = defaultdict(list)\n",
    "    for s, t in dfs_edges(G, source=source, depth_limit=depth_limit):\n",
    "        d[s].append(t)\n",
    "    return dict(d)\n"
   ]
  },
  {
   "cell_type": "code",
   "execution_count": 286,
   "metadata": {},
   "outputs": [
    {
     "data": {
      "image/png": "[encoded data removed]",
      "text/plain": [
       "<Figure size 432x288 with 1 Axes>"
      ]
     },
     "metadata": {},
     "output_type": "display_data"
    }
   ],
   "source": [
    "import networkx as nx\n",
    "G = nx.lollipop_graph(4,3)\n",
    "pos = nx.spring_layout(G)\n",
    "nx.draw(G, pos, with_labels=True, font_size=18, font_color=\"w\")"
   ]
  },
  {
   "cell_type": "code",
   "execution_count": 287,
   "metadata": {
    "pycharm": {
     "name": "#%%\n"
    }
   },
   "outputs": [],
   "source": [
    "p = dict(nx.all_pairs_shortest_path(G))"
   ]
  },
  {
   "cell_type": "code",
   "execution_count": 288,
   "metadata": {
    "pycharm": {
     "name": "#%%\n"
    }
   },
   "outputs": [
    {
     "data": {
      "text/plain": [
       "{0: [0],\n",
       " 1: [0, 1],\n",
       " 2: [0, 2],\n",
       " 3: [0, 3],\n",
       " 4: [0, 3, 4],\n",
       " 5: [0, 3, 4, 5],\n",
       " 6: [0, 3, 4, 5, 6]}"
      ]
     },
     "execution_count": 288,
     "metadata": {},
     "output_type": "execute_result"
    }
   ],
   "source": [
    "p[0]"
   ]
  },
  {
   "cell_type": "code",
   "execution_count": 289,
   "metadata": {
    "pycharm": {
     "name": "#%%\n"
    }
   },
   "outputs": [],
   "source": [
    "def single_source_shortest_paths_pred(graph,source):\n",
    "    shortest_paths_dict = {}\n",
    "    pred = nx.predecessor(graph,source)\n",
    "    for node in graph:\n",
    "        shortest_paths_dict[node] = list(nx.algorithms.shortest_paths.generic._build_paths_from_predecessors([source], node, pred))\n",
    "    return shortest_paths_dict"
   ]
  },
  {
   "cell_type": "code",
   "execution_count": 290,
   "metadata": {
    "pycharm": {
     "name": "#%%\n"
    }
   },
   "outputs": [],
   "source": [
    "pred=nx.predecessor(G, 4, cutoff=3)"
   ]
  },
  {
   "cell_type": "code",
   "execution_count": 291,
   "metadata": {
    "pycharm": {
     "name": "#%%\n"
    }
   },
   "outputs": [
    {
     "ename": "NetworkXNoPath",
     "evalue": "Target 8 cannot be reached from given sources",
     "output_type": "error",
     "traceback": [
      "\u001b[0;31m---------------------------------------------------------------------------\u001b[0m",
      "\u001b[0;31mNetworkXNoPath\u001b[0m                            Traceback (most recent call last)",
      "Input \u001b[0;32mIn [291]\u001b[0m, in \u001b[0;36m<cell line: 1>\u001b[0;34m()\u001b[0m\n\u001b[0;32m----> 1\u001b[0m \u001b[38;5;28;43mlist\u001b[39;49m\u001b[43m(\u001b[49m\u001b[43mnx\u001b[49m\u001b[38;5;241;43m.\u001b[39;49m\u001b[43malgorithms\u001b[49m\u001b[38;5;241;43m.\u001b[39;49m\u001b[43mshortest_paths\u001b[49m\u001b[38;5;241;43m.\u001b[39;49m\u001b[43mgeneric\u001b[49m\u001b[38;5;241;43m.\u001b[39;49m\u001b[43m_build_paths_from_predecessors\u001b[49m\u001b[43m(\u001b[49m\u001b[43m[\u001b[49m\u001b[38;5;241;43m4\u001b[39;49m\u001b[43m]\u001b[49m\u001b[43m,\u001b[49m\u001b[43m \u001b[49m\u001b[38;5;241;43m8\u001b[39;49m\u001b[43m,\u001b[49m\u001b[43m \u001b[49m\u001b[43mpred\u001b[49m\u001b[43m)\u001b[49m\u001b[43m)\u001b[49m\n",
      "File \u001b[0;32m~/miniconda3/envs/graph_rewire/lib/python3.8/site-packages/networkx/algorithms/shortest_paths/generic.py:545\u001b[0m, in \u001b[0;36m_build_paths_from_predecessors\u001b[0;34m(sources, target, pred)\u001b[0m\n\u001b[1;32m    505\u001b[0m \u001b[38;5;124;03m\"\"\"Compute all simple paths to target, given the predecessors found in\u001b[39;00m\n\u001b[1;32m    506\u001b[0m \u001b[38;5;124;03mpred, terminating when any source in sources is found.\u001b[39;00m\n\u001b[1;32m    507\u001b[0m \n\u001b[0;32m   (...)\u001b[0m\n\u001b[1;32m    542\u001b[0m \u001b[38;5;124;03mbellman_ford_path\u001b[39;00m\n\u001b[1;32m    543\u001b[0m \u001b[38;5;124;03m\"\"\"\u001b[39;00m\n\u001b[1;32m    544\u001b[0m \u001b[38;5;28;01mif\u001b[39;00m target \u001b[38;5;129;01mnot\u001b[39;00m \u001b[38;5;129;01min\u001b[39;00m pred:\n\u001b[0;32m--> 545\u001b[0m     \u001b[38;5;28;01mraise\u001b[39;00m nx\u001b[38;5;241m.\u001b[39mNetworkXNoPath(\u001b[38;5;124mf\u001b[39m\u001b[38;5;124m\"\u001b[39m\u001b[38;5;124mTarget \u001b[39m\u001b[38;5;132;01m{\u001b[39;00mtarget\u001b[38;5;132;01m}\u001b[39;00m\u001b[38;5;124m cannot be reached from given sources\u001b[39m\u001b[38;5;124m\"\u001b[39m)\n\u001b[1;32m    547\u001b[0m seen \u001b[38;5;241m=\u001b[39m {target}\n\u001b[1;32m    548\u001b[0m stack \u001b[38;5;241m=\u001b[39m [[target, \u001b[38;5;241m0\u001b[39m]]\n",
      "\u001b[0;31mNetworkXNoPath\u001b[0m: Target 8 cannot be reached from given sources"
     ]
    }
   ],
   "source": [
    "list(nx.algorithms.shortest_paths.generic._build_paths_from_predecessors([4], 8, pred))"
   ]
  },
  {
   "cell_type": "code",
   "execution_count": 292,
   "metadata": {
    "pycharm": {
     "name": "#%%\n"
    }
   },
   "outputs": [
    {
     "data": {
      "text/plain": [
       "{4: [], 5: [4], 3: [4], 6: [5], 0: [3], 1: [3], 2: [3]}"
      ]
     },
     "execution_count": 292,
     "metadata": {},
     "output_type": "execute_result"
    }
   ],
   "source": [
    "pred"
   ]
  },
  {
   "cell_type": "code",
   "execution_count": 293,
   "metadata": {
    "pycharm": {
     "name": "#%%\n"
    }
   },
   "outputs": [
    {
     "data": {
      "text/plain": [
       "{0: [1, 2, 3], 3: [4], 4: [5]}"
      ]
     },
     "execution_count": 293,
     "metadata": {},
     "output_type": "execute_result"
    }
   ],
   "source": [
    "dict(nx.bfs_successors(G, 0, 3))"
   ]
  },
  {
   "cell_type": "code",
   "execution_count": 294,
   "metadata": {},
   "outputs": [
    {
     "data": {
      "text/plain": [
       "{0: [1], 1: [2], 2: [3]}"
      ]
     },
     "execution_count": 294,
     "metadata": {},
     "output_type": "execute_result"
    }
   ],
   "source": [
    "dict(nx.dfs_successors(G, 0, 3))"
   ]
  },
  {
   "cell_type": "code",
   "execution_count": 295,
   "metadata": {},
   "outputs": [
    {
     "data": {
      "text/plain": [
       "{0: [0], 1: [1, 2, 3], 2: [4], 3: [5], 4: [6]}"
      ]
     },
     "execution_count": 295,
     "metadata": {},
     "output_type": "execute_result"
    }
   ],
   "source": [
    "dict(enumerate(nx.bfs_layers(G, [0])))"
   ]
  },
  {
   "cell_type": "code",
   "execution_count": 296,
   "metadata": {},
   "outputs": [
    {
     "data": {
      "text/plain": [
       "[0, 1, 2, 3, 4, 5]"
      ]
     },
     "execution_count": 296,
     "metadata": {},
     "output_type": "execute_result"
    }
   ],
   "source": [
    "list(nx.bfs_tree(G, source=0, depth_limit=3))"
   ]
  },
  {
   "cell_type": "code",
   "execution_count": 297,
   "metadata": {},
   "outputs": [
    {
     "data": {
      "text/plain": [
       "[[0], [1, 2, 3], [4], [5], [6]]"
      ]
     },
     "execution_count": 297,
     "metadata": {},
     "output_type": "execute_result"
    }
   ],
   "source": [
    "list(nx.bfs_layers(G, 0))"
   ]
  },
  {
   "cell_type": "code",
   "execution_count": 303,
   "metadata": {},
   "outputs": [
    {
     "data": {
      "text/plain": [
       "[(0, 1), (1, 2), (2, 3), (3, 4)]"
      ]
     },
     "execution_count": 303,
     "metadata": {},
     "output_type": "execute_result"
    },
    {
     "data": {
      "image/png": "[encoded data removed]",
      "text/plain": [
       "<Figure size 432x288 with 1 Axes>"
      ]
     },
     "metadata": {},
     "output_type": "display_data"
    }
   ],
   "source": [
    "path = list(dfs_edges(G, 0, depth_limit=4))\n",
    "list(zip(path,path[1:]))\n",
    "nx.draw(G, pos, with_labels=True, font_size=18, font_color=\"w\")\n",
    "# nx.draw_networkx_nodes(G,pos,nodelist=path,node_color='r')\n",
    "nx.draw_networkx_edges(G,pos,edgelist=path,edge_color='r',width=2,arrowstyle='-|>',arrows=True)\n",
    "path"
   ]
  },
  {
   "cell_type": "code",
   "execution_count": 178,
   "metadata": {},
   "outputs": [
    {
     "data": {
      "text/plain": [
       "{0: [1], 1: [2], 2: [3], 3: [4]}"
      ]
     },
     "execution_count": 178,
     "metadata": {},
     "output_type": "execute_result"
    }
   ],
   "source": [
    "dict(nx.dfs_successors(G, 0, 4))"
   ]
  },
  {
   "cell_type": "code",
   "execution_count": 179,
   "metadata": {},
   "outputs": [
    {
     "data": {
      "text/plain": [
       "[(0, 1), (0, 2), (0, 3), (3, 4)]"
      ]
     },
     "execution_count": 179,
     "metadata": {},
     "output_type": "execute_result"
    },
    {
     "data": {
      "image/png": "[encoded data removed]",
      "text/plain": [
       "<Figure size 432x288 with 1 Axes>"
      ]
     },
     "metadata": {},
     "output_type": "display_data"
    }
   ],
   "source": [
    "path = list(nx.bfs_edges(G, 0, depth_limit=2))\n",
    "list(zip(path,path[1:]))\n",
    "nx.draw(G, pos, with_labels=True, font_size=18, font_color=\"w\")\n",
    "# nx.draw_networkx_nodes(G,pos,nodelist=path,node_color='r')\n",
    "nx.draw_networkx_edges(G,pos,edgelist=path,edge_color='r',width=2,arrowstyle='-|>',arrows=True)\n",
    "path"
   ]
  },
  {
   "cell_type": "code",
   "execution_count": 156,
   "metadata": {},
   "outputs": [
    {
     "data": {
      "text/plain": [
       "{0: [1, 2, 4, 8],\n",
       " 2: [3],\n",
       " 4: [5, 6],\n",
       " 8: [9, 10, 12],\n",
       " 6: [7],\n",
       " 10: [11],\n",
       " 12: [13, 14]}"
      ]
     },
     "execution_count": 156,
     "metadata": {},
     "output_type": "execute_result"
    }
   ],
   "source": [
    "dict(nx.bfs_successors(G, 0, 3))"
   ]
  },
  {
   "cell_type": "code",
   "execution_count": 44,
   "metadata": {},
   "outputs": [
    {
     "data": {
      "text/plain": [
       "[0, 1, 5, 2, 6, 3, 7, 4, 8, 9]"
      ]
     },
     "execution_count": 44,
     "metadata": {},
     "output_type": "execute_result"
    }
   ],
   "source": [
    "list(nx.bfs_tree(G, 0, 3))"
   ]
  },
  {
   "cell_type": "code",
   "execution_count": null,
   "metadata": {},
   "outputs": [],
   "source": []
  }
 ],
 "metadata": {
  "kernelspec": {
   "display_name": "Python 3",
   "language": "python",
   "name": "python3"
  },
  "language_info": {
   "codemirror_mode": {
    "name": "ipython",
    "version": 3
   },
   "file_extension": ".py",
   "mimetype": "text/x-python",
   "name": "python",
   "nbconvert_exporter": "python",
   "pygments_lexer": "ipython3",
   "version": "3.8.11"
  }
 },
 "nbformat": 4,
 "nbformat_minor": 1
}
